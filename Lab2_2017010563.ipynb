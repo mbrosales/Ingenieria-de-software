{
 "metadata": {
  "language_info": {
   "codemirror_mode": {
    "name": "ipython",
    "version": 3
   },
   "file_extension": ".py",
   "mimetype": "text/x-python",
   "name": "python",
   "nbconvert_exporter": "python",
   "pygments_lexer": "ipython3",
   "version": "3.8.4-final"
  },
  "orig_nbformat": 2,
  "kernelspec": {
   "name": "Python 3.8.4 32-bit",
   "display_name": "Python 3.8.4 32-bit",
   "metadata": {
    "interpreter": {
     "hash": "d5d7b2fdf72dec671171549468ba1cd1b761d8a6ddf1aca28e7e23b9ee851835"
    }
   }
  }
 },
 "nbformat": 4,
 "nbformat_minor": 2,
 "cells": [
  {
   "source": [
    "Para este ejercicio se necesita generar una estructura de datos que almacene 10 millones de puntos en una distribución normal con una media de 500 y una escala de 30 dondese interen exclusivamente con estructuras de control, calcular la sumatoria de los puntos que son menores a 500,000 y saber el tiempo que se tardo en crear la iteracion. "
   ],
   "cell_type": "markdown",
   "metadata": {}
  },
  {
   "cell_type": "code",
   "execution_count": 95,
   "metadata": {},
   "outputs": [],
   "source": [
    "import numpy as np\n",
    "import time"
   ]
  },
  {
   "cell_type": "code",
   "execution_count": 96,
   "metadata": {},
   "outputs": [],
   "source": [
    "puntos = np.random.normal(loc=500,scale=30,size=10000000)"
   ]
  },
  {
   "cell_type": "code",
   "execution_count": 97,
   "metadata": {},
   "outputs": [
    {
     "output_type": "stream",
     "name": "stdout",
     "text": [
      "El total de los puntos menores que 500000 es:  4999952967.222867\nDuracion: 5.394949913024902 segundos\n"
     ]
    }
   ],
   "source": [
    "inicio = time.time()\n",
    "\n",
    "puntos_menores = []\n",
    "\n",
    "for i in puntos:\n",
    "    if i < 500000:\n",
    "      puntos_menores.append(i)\n",
    "\n",
    "        \n",
    "punto_suma = sum(puntos_menores)\n",
    "print('El total de los puntos menores que 500000 es: ', punto_suma)\n",
    "print('Duracion: {} segundos'.format(time.time() - inicio))"
   ]
  },
  {
   "cell_type": "code",
   "execution_count": null,
   "metadata": {},
   "outputs": [],
   "source": []
  }
 ]
}