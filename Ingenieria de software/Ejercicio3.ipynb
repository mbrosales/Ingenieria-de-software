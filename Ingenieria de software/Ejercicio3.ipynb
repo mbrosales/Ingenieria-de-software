{
 "metadata": {
  "language_info": {
   "codemirror_mode": {
    "name": "ipython",
    "version": 3
   },
   "file_extension": ".py",
   "mimetype": "text/x-python",
   "name": "python",
   "nbconvert_exporter": "python",
   "pygments_lexer": "ipython3",
   "version": "3.8.4-final"
  },
  "orig_nbformat": 2,
  "kernelspec": {
   "name": "Python 3.8.4 32-bit",
   "display_name": "Python 3.8.4 32-bit",
   "metadata": {
    "interpreter": {
     "hash": "d5d7b2fdf72dec671171549468ba1cd1b761d8a6ddf1aca28e7e23b9ee851835"
    }
   }
  }
 },
 "nbformat": 4,
 "nbformat_minor": 2,
 "cells": [
  {
   "cell_type": "markdown",
   "metadata": {},
   "source": [
    "Se solicita que codifique una solución para determinar el monto que la compañía va a internir en esta campaña. Deberá codificar al menos 2 soluciones para que el cliente pueda seleccionar la idónea basada en un indicador de desempeño en términos de tiempo.\n",
    "\n",
    "PROPUESTA 1"
   ]
  },
  {
   "cell_type": "code",
   "execution_count": 2,
   "metadata": {
    "tags": []
   },
   "outputs": [],
   "source": [
    "import time\n",
    "import numpy as np"
   ]
  },
  {
   "cell_type": "code",
   "execution_count": 3,
   "metadata": {},
   "outputs": [],
   "source": [
    "costos = np.loadtxt('costos.txt')"
   ]
  },
  {
   "cell_type": "code",
   "execution_count": 4,
   "metadata": {
    "tags": []
   },
   "outputs": [
    {
     "output_type": "stream",
     "name": "stdout",
     "text": "$ 30338353.0\nDuracion: 4.838801622390747 segundos\n"
    }
   ],
   "source": [
    "inicio = time.time()\n",
    "vector=np.array(costos)\n",
    "precio_menor = []\n",
    "\n",
    "for precio in vector:\n",
    "    if precio <25:\n",
    "        precio_menor.append(precio)\n",
    "            \n",
    "gasto_total = np.sum(precio_menor)\n",
    "print('$', gasto_total)\n",
    "print('Duracion: {} segundos'.format(time.time() - inicio))"
   ]
  },
  {
   "cell_type": "markdown",
   "metadata": {
    "tags": []
   },
   "source": [
    "PROPUESTA 2"
   ]
  },
  {
   "cell_type": "code",
   "execution_count": 5,
   "metadata": {},
   "outputs": [],
   "source": [
    "costos = np.loadtxt('costos.txt')"
   ]
  },
  {
   "cell_type": "code",
   "execution_count": 6,
   "metadata": {
    "tags": []
   },
   "outputs": [
    {
     "output_type": "stream",
     "name": "stdout",
     "text": "$ 30338353.0\nDuracion: 0.2681264877319336 segundos\n"
    }
   ],
   "source": [
    "inicio = time.time()\n",
    "precio_menor = np.sum(costos[costos <25])\n",
    "print('$', gasto_total)\n",
    "print('Duracion: {} segundos'.format(time.time() - inicio))"
   ]
  },
  {
   "cell_type": "code",
   "execution_count": null,
   "metadata": {},
   "outputs": [],
   "source": []
  }
 ]
}