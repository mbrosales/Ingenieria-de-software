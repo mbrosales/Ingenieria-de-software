{
 "metadata": {
  "language_info": {
   "codemirror_mode": {
    "name": "ipython",
    "version": 3
   },
   "file_extension": ".py",
   "mimetype": "text/x-python",
   "name": "python",
   "nbconvert_exporter": "python",
   "pygments_lexer": "ipython3",
   "version": "3.8.4-final"
  },
  "orig_nbformat": 2,
  "kernelspec": {
   "name": "Python 3.8.4 32-bit",
   "display_name": "Python 3.8.4 32-bit",
   "metadata": {
    "interpreter": {
     "hash": "d5d7b2fdf72dec671171549468ba1cd1b761d8a6ddf1aca28e7e23b9ee851835"
    }
   }
  }
 },
 "nbformat": 4,
 "nbformat_minor": 2,
 "cells": [
  {
   "cell_type": "markdown",
   "metadata": {
    "tags": []
   },
   "source": [
    "Modificacion: incluyendo el 13% en concepto del IVA de manera que el costo de la promocion sea debidamente cuantificada. Por medio del codigo fuente compare el costo sin IVA vs el nuevo costo e informe sobre la diferencia."
   ]
  },
  {
   "cell_type": "code",
   "execution_count": 11,
   "metadata": {
    "tags": []
   },
   "outputs": [],
   "source": [
    "import time\n",
    "import numpy as np"
   ]
  },
  {
   "cell_type": "code",
   "execution_count": 12,
   "metadata": {},
   "outputs": [],
   "source": [
    "costos = np.loadtxt('costos.txt')"
   ]
  },
  {
   "cell_type": "code",
   "execution_count": 18,
   "metadata": {
    "tags": []
   },
   "outputs": [
    {
     "output_type": "stream",
     "name": "stdout",
     "text": "El monto total+IVA es: $ 34282338.89\nLa diferencia es $ 3943985.8900000006\nMoto sin iva $ 30338353.0\nDuracion: 0.11333775520324707 segundos\n"
    }
   ],
   "source": [
    "inicio = time.time()\n",
    "def IVA(monto_siniva,iva):\n",
    "    iva_total=monto_siniva*iva\n",
    "    iva_monto=iva_total+monto_siniva\n",
    "    diferencia=iva_monto-monto_siniva\n",
    "    print('El monto total+IVA es: $', iva_monto)\n",
    "    print('La diferencia es $', diferencia)\n",
    "    \n",
    "\n",
    "\n",
    "iva= 0.13\n",
    "monto_siniva = np.sum(costos[costos <25])\n",
    "IVA(monto_siniva, iva)\n",
    "print('Moto sin iva $', monto_siniva)\n",
    "print('Duracion: {} segundos'.format(time.time() - inicio))"
   ]
  },
  {
   "cell_type": "code",
   "execution_count": null,
   "metadata": {},
   "outputs": [],
   "source": []
  }
 ]
}